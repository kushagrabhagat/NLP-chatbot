{
 "cells": [
  {
   "cell_type": "code",
   "execution_count": null,
   "metadata": {
    "colab": {
     "base_uri": "https://localhost:8080/"
    },
    "id": "d30ka84vWkTn",
    "outputId": "8e2d3e91-fba2-4036-cddd-984d8a374c30"
   },
   "outputs": [],
   "source": [
    "#importing required lib\n",
    "import nltk\n",
    "from nltk.tokenize import sent_tokenize, word_tokenize\n",
    "nltk.download('punkt')\n",
    "nltk.download('wordnet')\n",
    "import numpy as np\n",
    "import random\n",
    "import string \n",
    "import warnings\n",
    "warnings.simplefilter(\"ignore\")"
   ]
  },
  {
   "cell_type": "code",
   "execution_count": null,
   "metadata": {
    "colab": {
     "base_uri": "https://localhost:8080/",
     "height": 231
    },
    "id": "JpkozIXBW2vR",
    "outputId": "227a102b-824e-4f33-efe8-57fc7be5c0f1"
   },
   "outputs": [],
   "source": [
    "text_data = open('breast_cancer.txt','r',errors = 'ignore')\n",
    "#text_data = open('/content/breast_cancer.txt','r',errors = 'ignore')\n",
    "raw_data = text_data.read()\n",
    "raw_data = raw_data.lower()# converts to lowercase\n",
    "nltk.download('punkt') \n",
    "nltk.download('wordnet') \n",
    "sent_tokens = nltk.sent_tokenize(raw_data)# converts to list of sentences \n",
    "word_tokens = nltk.word_tokenize(raw_data)# converts to list of words"
   ]
  },
  {
   "cell_type": "code",
   "execution_count": null,
   "metadata": {
    "id": "5VXWmsoHYPmy"
   },
   "outputs": [],
   "source": [
    "lemmer = nltk.stem.WordNetLemmatizer()\n",
    "#WordNet is a semantically-oriented dictionary of English included in NLTK.\n",
    "def LemTokens(tokens):\n",
    "    return [lemmer.lemmatize(token) for token in tokens]\n",
    "remove_punct_dict = dict((ord(punct), None) for punct in string.punctuation)\n",
    "def LemNormalize(text):\n",
    "    return LemTokens(nltk.word_tokenize(text.lower().translate(remove_punct_dict)))"
   ]
  },
  {
   "cell_type": "code",
   "execution_count": null,
   "metadata": {
    "id": "GAWNiKSGYrLf"
   },
   "outputs": [],
   "source": [
    "GREETING_INPUTS = (\"hello\", \"hi\", \"greetings\", \"sup\", \"what's up\",\"hey\",)\n",
    "GREETING_RESPONSES = [\"hi\", \"hey\", \"*nods*\", \"hi there\", \"hello\", \"I am glad! You are talking to me\"]\n",
    "def greeting(sentence):\n",
    " \n",
    "    for word in sentence.split():\n",
    "        if word.lower() in GREETING_INPUTS:\n",
    "            return random.choice(GREETING_RESPONSES)"
   ]
  },
  {
   "cell_type": "code",
   "execution_count": null,
   "metadata": {
    "id": "0rXz5_utbD3F"
   },
   "outputs": [],
   "source": [
    "BREAST_CANCER_INPUT = (\"what is breast cancer\")\n",
    "BREAST_CANCER_RESPONSE = (\"Breast cancer is cancer that forms in the cells of the breasts. After skin cancer, breast cancer is the most common cancer diagnosed in women in the United States. Breast cancer can occur in both men and women, but it's far more common in women.\")\n",
    "def breastcancer(sentence):\n",
    "    for word in sentence.split():\n",
    "        if word.lower() in BREAST_CANCER_INPUT:\n",
    "            return (BREAST_CANCER_RESPONSE)"
   ]
  },
  {
   "cell_type": "code",
   "execution_count": null,
   "metadata": {
    "id": "nhzzIGpd0quO"
   },
   "outputs": [],
   "source": [
    "SYMPTOMS_INPUT = (\"symptoms\",\"tell me symptoms of breast cancer\",\"what are the symptoms\",\"the symptoms are?\",'what are symptoms')\n",
    "SYMPTOMS_RESPONSE = (\"New lump in the breast or underarm,Thickening or swelling of part of the breast,Irritation or dimpling of breast skin,Redness or flaky skin in the nipple area or the breast,Pulling in of the nipple or pain in the nipple area,Nipple discharge other than breast milk, including blood,Any change in the size or the shape of the breast,Pain in any area of the breast\")\n",
    "def symptoms(sentence):\n",
    "    for word in sentence.split():\n",
    "        if word.lower() in SYMPTOMS_INPUT:\n",
    "            return (SYMPTOMS_RESPONSE)"
   ]
  },
  {
   "cell_type": "code",
   "execution_count": null,
   "metadata": {
    "id": "7dtW2qw4161l"
   },
   "outputs": [],
   "source": [
    "RISK_INPUT = (\"what are the risk factors\",\"risk factors\",\"risk factors for breast cancer are?\")\n",
    "RISK_RESPONSE = (\"Not being physically active,Being overweight or obese after menopause,Taking hormones,Reproductive history,Drinking alcohol,Beginning your period at a younger age,Beginning menopause at an older age,Beginning menopause at an older age,Postmenopausal hormone therapy,\")\n",
    "def risk(sentence):\n",
    "    for word in sentence.split():\n",
    "        if word.lower() in RISK_INPUT:\n",
    "            return (RISK_RESPONSE)"
   ]
  },
  {
   "cell_type": "code",
   "execution_count": null,
   "metadata": {
    "id": "Zg-q5mBJ207M"
   },
   "outputs": [],
   "source": [
    "REDUCE_RISK_INPUT = ('how to reduce risk','how to reduce risk of breast cancer','reduce risk','reduce the risk of breast cancer')\n",
    "REDUCE_RISK_RESPONSE = ('Keep a healthy weight,Exercise regularly,Don’t drink alcohol, or limit alcoholic drinks,Breastfeed your children, if possible,Follow a healthy eating pattern,Think carefully about using hormone replacement therapy (HRT)')\n",
    "def risk_reduce(sentence):\n",
    "    for word in sentence.split():\n",
    "        if word.lower() in REDUCE_RISK_INPUT:\n",
    "            return (REDUCE_RISK_RESPONSE)"
   ]
  },
  {
   "cell_type": "code",
   "execution_count": null,
   "metadata": {
    "id": "BEYyKZFT394c"
   },
   "outputs": [],
   "source": [
    "DIAGNOSE_INPUT = ('how to diagnose','how it is diagnosed?','how breast cancer is diagnosed','diagnose breast cancer')\n",
    "DIAGNOSE_RESPONSE = ('Breast ultrasound,Diagnostic mammogram,Magnetic resonance imaging (MRI),Biopsy')\n",
    "def diagnose(sentence):\n",
    "    for word in sentence.split():\n",
    "        if word.lower() in DIAGNOSE_INPUT:\n",
    "            return (DIAGNOSE_RESPONSE)"
   ]
  },
  {
   "cell_type": "code",
   "execution_count": null,
   "metadata": {
    "id": "Z5fossbN4zsr"
   },
   "outputs": [],
   "source": [
    "TREATMENT_INPUT = ('treatment','what are the treatments','treatments for breast cancer are?')\n",
    "TREATMENT_RESPONSE = ('Surgery,Chemotherapy,Hormonal therapy,Biological therapy,Radiation therapy')\n",
    "def treatments(sentence):\n",
    "    for word in sentence.split():\n",
    "        if word.lower() in TREATMENT_INPUT:\n",
    "            return (TREATMENT_RESPONSE)\n"
   ]
  },
  {
   "cell_type": "code",
   "execution_count": null,
   "metadata": {
    "id": "Yi5jyG5B5idA"
   },
   "outputs": [],
   "source": [
    "KINDS_INPUT = (\"types of breast cancer\",'what are the types of breast cancer')\n",
    "KINDS_RESPONSE =(\"Invasive ductal carcinoma,Invasive lobular carcinoma\")\n",
    "def kinds(sentence):\n",
    "    for word in sentence.split():\n",
    "        if word.lower() in KINDS_INPUT:\n",
    "            return (KINDS_RESPONSE)"
   ]
  },
  {
   "cell_type": "code",
   "execution_count": null,
   "metadata": {
    "id": "YtULq5vN6Brg"
   },
   "outputs": [],
   "source": [
    "WEBSITES_INPUT = ('websites i should visit','websites i should checkout','websites i should know about')\n",
    "WEBSITES_RESPONSE = ('www.cancer.gov , www.cancer.org , www.breastfeeding.org , www.nationalbreastcancer.org , www.bcrf.org')\n",
    "def websites(sentence):\n",
    "    for word in sentence.split():\n",
    "        if word.lower() in WEBSITES_INPUT:\n",
    "            return (WEBSITES_RESPONSE)"
   ]
  },
  {
   "cell_type": "code",
   "execution_count": null,
   "metadata": {
    "id": "WN4tncaS8sjK"
   },
   "outputs": [],
   "source": [
    "CONTRIBUTORS_INPUT = (\"contibutors\",\"who are the contributors\")\n",
    "CONTRIBUTORS_RESPONSE = (\"Mahi,Kushagra,Shruti,Riya,Vaibhavi\")\n",
    "def contributors(sentence):\n",
    "    for word in sentence.split():\n",
    "        if word.lower() in CONTRIBUTORS_INPUT:\n",
    "            return (CONTRIBUTORS_RESPONSE)"
   ]
  },
  {
   "cell_type": "code",
   "execution_count": null,
   "metadata": {
    "id": "X4ELmd80bMcJ"
   },
   "outputs": [],
   "source": [
    "INSPIRATIONAL_INPUTS = (\"inspire me\",\"im feeling low\",\"im sad\")\n",
    "INSPIRATIONAL_RESPONSES = (\"Don't lose hope.When the sun goes down, the stars come out.\",\"The only way to make sense of change is to plunge into it flow with it...and join the dance.\",\"Cancer changes your life, often for the better. You learn what's important, you learn to prioritize, and you learn not to waste your time. You tell people you love them.\",\"You are loved You are wonderfully made. You are beautiful. You are a masterpiece. God has a great plan for you.\",\"The wish for healing has always been half of health.\",\"Faith is daring to go beyond what the eyes can see.\",\"Just when the caterpillar thought the world was overit became a butterfly.\",\"Faith is daring to go beyond what the eyes can see.\",\"Tears are the sweat of champions\",\"Hope will never be silent.\",\"Cancer is WAY too serious to be taken seriously all the time.\")\n",
    "def inspirational(sentence):\n",
    "    for word in sentence.split():\n",
    "        if word.lower() in INSPIRATIONAL_INPUTS:\n",
    "            return random.choice(INSPIRATIONAL_RESPONSES)"
   ]
  },
  {
   "cell_type": "markdown",
   "metadata": {
    "id": "yjuuidavHaBl"
   },
   "source": [
    "#bse"
   ]
  },
  {
   "cell_type": "code",
   "execution_count": null,
   "metadata": {
    "colab": {
     "base_uri": "https://localhost:8080/"
    },
    "id": "oytylXR8HZ1B",
    "outputId": "e406a132-dd4d-459d-ba01-d7001a58efe8"
   },
   "outputs": [],
   "source": [
    "#bse\n",
    "intro = \"The best time to do a breast self-exam is a few days after your monthly menstrual cycle ends. Hormonal changes can affect the size and feel of your breasts, so it’s best to perform the exam when your breasts are in their normal state.Women who don’t menstruate should choose a certain day to perform the exam, such as the first day of each month.You should also keep a journal of your self-exams. This will help you track and record any changes you have noticed in your breasts.\"\n",
    "def intro_bse():\n",
    "    print(intro)\n",
    "    #return (intro)\n",
    "def intro_img():\n",
    "    #intro_bse()\n",
    "    import matplotlib.pyplot as plt\n",
    "    import matplotlib.image as mpimg\n",
    "    img = mpimg.imread('intro.png')\n",
    "    plt.imshow(img)\n",
    "    plt.axis('off')\n",
    "    plt.show()\n",
    "user_response = \"hi\"\n",
    "intro_bse()\n",
    "#intro_img()"
   ]
  },
  {
   "cell_type": "code",
   "execution_count": null,
   "metadata": {
    "colab": {
     "base_uri": "https://localhost:8080/",
     "height": 340
    },
    "id": "SQ4YiO4iHfDZ",
    "outputId": "81ce6d97-1050-4c7a-c24b-3f47ade98899"
   },
   "outputs": [],
   "source": [
    "def intro_img():\n",
    "    #intro_bse()\n",
    "    import matplotlib.pyplot as plt\n",
    "    import matplotlib.image as mpimg\n",
    "    img = mpimg.imread('intro.png')\n",
    "    plt.imshow(img)\n",
    "    plt.axis('off')\n",
    "    plt.show()\n",
    "intro_img()"
   ]
  },
  {
   "cell_type": "code",
   "execution_count": null,
   "metadata": {
    "id": "l-ahldzcHpYJ"
   },
   "outputs": [],
   "source": [
    "#step1 img\n",
    "def step1_img():\n",
    "    import matplotlib.pyplot as plt\n",
    "    import matplotlib.image as mpimg\n",
    "    img = mpimg.imread('1st.jpg')\n",
    "    plt.imshow(img)\n",
    "    plt.axis('off')\n",
    "    plt.show()\n"
   ]
  },
  {
   "cell_type": "code",
   "execution_count": null,
   "metadata": {
    "id": "EZi0HbaZXnKB"
   },
   "outputs": [],
   "source": [
    "#step2 img \n",
    "def step2_img():\n",
    "    import matplotlib.pyplot as plt\n",
    "    import matplotlib.image as mpimg\n",
    "    img = mpimg.imread('2nd.jpg')\n",
    "    plt.imshow(img)\n",
    "    plt.axis('off')\n",
    "    plt.show()\n"
   ]
  },
  {
   "cell_type": "code",
   "execution_count": null,
   "metadata": {
    "id": "I4gHUUgtHvs3"
   },
   "outputs": [],
   "source": [
    "#step3_img\n",
    "def step3_img():\n",
    "    import matplotlib.pyplot as plt\n",
    "    import matplotlib.image as mpimg\n",
    "    img = mpimg.imread('3rd.jpg')\n",
    "    plt.imshow(img)\n",
    "    plt.axis('off')\n",
    "    plt.show()"
   ]
  },
  {
   "cell_type": "code",
   "execution_count": null,
   "metadata": {
    "id": "Jiae0ujOHx0y"
   },
   "outputs": [],
   "source": [
    "#bse2\n",
    "def bse_1():\n",
    "    step1_img()\n",
    "    step2_img()\n",
    "    step3_img()\n",
    "    step_01 = \"Start by standing topless in front of a mirror with your hands at your sides.Visually inspect your breasts for the following:\"\n",
    "    step_02 = \" changes in size, shape, or symmetry dimpling inverted nipples puckering asymmetrical ridges at the bottom\"\n",
    "    print(step_01 + step_02)"
   ]
  },
  {
   "cell_type": "code",
   "execution_count": null,
   "metadata": {
    "id": "piCEDokFH0PR"
   },
   "outputs": [],
   "source": [
    "#step4 img\n",
    "def step4_img():\n",
    "    import matplotlib.pyplot as plt\n",
    "    import matplotlib.image as mpimg\n",
    "    img = mpimg.imread('4th.jpg')\n",
    "    plt.imshow(img)\n",
    "    plt.axis('off')\n",
    "    plt.show()"
   ]
  },
  {
   "cell_type": "code",
   "execution_count": null,
   "metadata": {
    "colab": {
     "base_uri": "https://localhost:8080/",
     "height": 285
    },
    "id": "8c9Gs_0hH6B0",
    "outputId": "fd54c640-5a48-433b-ce43-87d811a98ae2"
   },
   "outputs": [],
   "source": [
    "#bse 2\n",
    "def bse_2():\n",
    "    step4_img()\n",
    "    step4 = \"With tips of the fingers together, feel your breast up and downwards.Also in round movements, starting from the outer part and pull inwards to the nipple\"\n",
    "    print(step4)\n",
    "bse_2()"
   ]
  },
  {
   "cell_type": "code",
   "execution_count": null,
   "metadata": {
    "id": "nB9pUuiaH8PO"
   },
   "outputs": [],
   "source": [
    "#step 5 img\n",
    "def step5_img():\n",
    "    import matplotlib.pyplot as plt\n",
    "    import matplotlib.image as mpimg\n",
    "    img = mpimg.imread('5th.jpg')\n",
    "    plt.imshow(img)\n",
    "    plt.axis('off')\n",
    "    plt.show()\n"
   ]
  },
  {
   "cell_type": "code",
   "execution_count": null,
   "metadata": {
    "colab": {
     "base_uri": "https://localhost:8080/",
     "height": 258
    },
    "id": "FxlwzJRdH9I4",
    "outputId": "f492c01d-b3f7-4e90-c01b-e0d94d6712d0"
   },
   "outputs": [],
   "source": [
    "def bse_3():\n",
    "    step5_img()\n",
    "    step5 = \"Lying on a cushion repeat all the previous movements\"\n",
    "    print(step5) \n",
    "bse_3()"
   ]
  },
  {
   "cell_type": "code",
   "execution_count": null,
   "metadata": {
    "id": "PxkzUiucIFv2"
   },
   "outputs": [],
   "source": [
    "#step6 img\n",
    "def step6_img():\n",
    "    import matplotlib.pyplot as plt\n",
    "    import matplotlib.image as mpimg\n",
    "    img = mpimg.imread('6th.jpg')\n",
    "    plt.imshow(img)\n",
    "    plt.axis('off')\n",
    "    plt.show()\n"
   ]
  },
  {
   "cell_type": "code",
   "execution_count": null,
   "metadata": {
    "colab": {
     "base_uri": "https://localhost:8080/",
     "height": 265
    },
    "id": "oUj0Cv1EIGhM",
    "outputId": "96471217-22e1-46d1-cb76-0ead834b72d4"
   },
   "outputs": [],
   "source": [
    "#bse4\n",
    "def bse_4():\n",
    "    step6_img()\n",
    "    step6 = \"Place your thumb and forefinger on the tissue around the nipple and press.Look for any abnormal discharge\"\n",
    "    print(step6)\n",
    "bse_4()"
   ]
  },
  {
   "cell_type": "code",
   "execution_count": null,
   "metadata": {
    "colab": {
     "base_uri": "https://localhost:8080/",
     "height": 1000
    },
    "id": "qjLzvO5_IIht",
    "outputId": "e3a44ddd-8622-4c7e-d8e9-902ed5d36f2d"
   },
   "outputs": [],
   "source": [
    "def bse():\n",
    "    intro_bse()\n",
    "    intro_img()\n",
    "    bse_1()\n",
    "    bse_2()\n",
    "    bse_3()\n",
    "    bse_4()\n",
    "bse()"
   ]
  },
  {
   "cell_type": "code",
   "execution_count": null,
   "metadata": {
    "id": "MKn69oAuIK_6"
   },
   "outputs": [],
   "source": [
    "BSE_INPUT = (\"eeee\",\"how can i take self exam\",\"How I can know if i have breast cancer?\",\"What are the steps for breast cancer exam?\",\"what is the procedure if i want to check myself for breast cancer\",\"what is breast cancer self-exam?\",\"what is breast cancer self exam?\")\n",
    "def breast_cancer_exam(sentence):\n",
    "     for word in sentence.split():\n",
    "        if word.lower() in BSE_INPUT:\n",
    "            bse()\n",
    "            "
   ]
  },
  {
   "cell_type": "code",
   "execution_count": null,
   "metadata": {
    "id": "XlYI_Jn9YwAp"
   },
   "outputs": [],
   "source": [
    "from sklearn.feature_extraction.text import TfidfVectorizer\n",
    "from sklearn.metrics.pairwise import cosine_similarity"
   ]
  },
  {
   "cell_type": "code",
   "execution_count": null,
   "metadata": {
    "id": "XG8OzaQ8Y9sN"
   },
   "outputs": [],
   "source": [
    "def response(user_response):\n",
    "    Meera_response=''\n",
    "    TfidfVec = TfidfVectorizer(tokenizer=LemNormalize, stop_words='english')\n",
    "    tfidf = TfidfVec.fit_transform(sent_tokens)\n",
    "    vals = cosine_similarity(tfidf[-1], tfidf)\n",
    "    idx=vals.argsort()[0][-2]\n",
    "    flat = vals.flatten()\n",
    "    flat.sort()\n",
    "    req_tfidf = flat[-2]\n",
    "    if(req_tfidf==0):\n",
    "        Meera_response=Meera_response+\"I am sorry! I don't understand you\"\n",
    "        return Meera_response\n",
    "    else:\n",
    "        Meera_response = Meera_response+sent_tokens[idx]\n",
    "        return Meera_response"
   ]
  },
  {
   "cell_type": "code",
   "execution_count": null,
   "metadata": {
    "colab": {
     "base_uri": "https://localhost:8080/",
     "height": 1000
    },
    "id": "EarNvh8NZA7T",
    "outputId": "b45f321d-51aa-4882-d216-419ae7eb51ce"
   },
   "outputs": [],
   "source": [
    "Continue = True\n",
    "print(\"Meera: My name is Meera. I will answer your queries about Chatbots. If you want to exit, type Bye!\")\n",
    "while(Continue == True):\n",
    "    user_response = input()\n",
    "    user_response = user_response.lower()\n",
    "    if(user_response !='bye'):\n",
    "        if(user_response == 'thanks' or user_response == 'thank you' ):\n",
    "            Continue = False\n",
    "            print(\"Meera: You are welcome..\")\n",
    "        else:\n",
    "            if(greeting(user_response) != None):\n",
    "                print(\"Meera: \"+greeting(user_response))\n",
    "            else:\n",
    "                if(breastcancer(user_response)!= None):\n",
    "                    print(\"Meera: \"+breastcancer(user_response))\n",
    "                else:\n",
    "                    if(symptoms(user_response)!= None):\n",
    "                         print(\"Meera: \"+symptoms(user_response))\n",
    "                    else:\n",
    "                        if(risk(user_response)!= None):\n",
    "                            print(\"Meera: \"+risk(user_response))\n",
    "                        \n",
    "                        else:\n",
    "                            if(risk_reduce(user_response) != None):\n",
    "                                print(\"Meera: \"+risk_reduce(user_response))\n",
    "                            else:\n",
    "                                if(diagnose(user_response) != None):\n",
    "                                    print(\"Meera: \"+diagnose(user_response))\n",
    "                                else:\n",
    "                                    if(risk_reduce(user_response) != None):\n",
    "                                        print(\"Meera: \"+risk_reduce(user_response))\n",
    "                                    else:\n",
    "                                        if(treatments(user_response) != None):\n",
    "                                            print(\"Meera: \"+treatments(user_response))\n",
    "                                        else:\n",
    "                                            if(kinds(user_response) != None):\n",
    "                                                print(\"Meera: \"+kinds(user_response))\n",
    "                                            else:\n",
    "                                                if(websites(user_response) != None):\n",
    "                                                    print(\"Meera: \"+websites(user_response))\n",
    "                                                else:\n",
    "                                                    if(contributors(user_response) != None):\n",
    "                                                        print(\"Meera: \"+contributors(user_response))\n",
    "                                                    else:\n",
    "                                                        if(inspirational(user_response) != None):\n",
    "                                                            print(\"Meera: \"+inspirational(user_response))\n",
    "                                                        else:\n",
    "                                                            if(breast_cancer_exam(user_response) != None):\n",
    "                                                                print(\"Meera: \" + breast_cancer_exam(user_response))\n",
    "                                                            else:\n",
    "                                                                sent_tokens.append(user_response)\n",
    "                                                                word_tokens = word_tokens+nltk.word_tokenize(user_response)\n",
    "                                                                final_words = list(set(word_tokens))\n",
    "                                                                print(\"Meera: \",end=\"\")\n",
    "                                                                print(response(user_response))\n",
    "                                                                sent_tokens.remove(user_response)\n",
    "    else:\n",
    "        Continue = False\n",
    "        print(\"Meera: Bye! take care..\")"
   ]
  },
  {
   "cell_type": "code",
   "execution_count": null,
   "metadata": {
    "colab": {
     "base_uri": "https://localhost:8080/",
     "height": 1000
    },
    "id": "qXpBh__iA5ag",
    "outputId": "171ec989-1f15-4a5f-d77a-48bffb8211d1"
   },
   "outputs": [],
   "source": [
    "Continue = True\n",
    "print(\"Meera: My name is Meera. I will answer your queries about Chatbots. If you want to exit, type Bye!\")\n",
    "while(Continue == True):\n",
    "    user_response = input()\n",
    "    user_response = user_response.lower()\n",
    "    if(user_response !='bye'):\n",
    "        if(user_response == 'thanks' or user_response == 'thank you' ):\n",
    "            Continue = False\n",
    "            print(\"Meera: You are welcome..\")\n",
    "        else:\n",
    "            if(greeting(user_response) != None):\n",
    "                print(\"Meera: \"+greeting(user_response))\n",
    "            else:\n",
    "                if(breast_cancer_exam(user_response) != None):\n",
    "                    print(\"Meera: \" + breast_cancer_exam(user_response))\n",
    "       \n",
    "    else:\n",
    "        Continue = False\n",
    "        print(\"Meera: Bye! take care..\")"
   ]
  },
  {
   "cell_type": "code",
   "execution_count": null,
   "metadata": {
    "id": "IQy5ES9dURve"
   },
   "outputs": [],
   "source": []
  }
 ],
 "metadata": {
  "colab": {
   "collapsed_sections": [],
   "name": "chatbot2.ipynb",
   "provenance": []
  },
  "kernelspec": {
   "display_name": "Python 3",
   "language": "python",
   "name": "python3"
  },
  "language_info": {
   "codemirror_mode": {
    "name": "ipython",
    "version": 3
   },
   "file_extension": ".py",
   "mimetype": "text/x-python",
   "name": "python",
   "nbconvert_exporter": "python",
   "pygments_lexer": "ipython3",
   "version": "3.8.3"
  }
 },
 "nbformat": 4,
 "nbformat_minor": 1
}
